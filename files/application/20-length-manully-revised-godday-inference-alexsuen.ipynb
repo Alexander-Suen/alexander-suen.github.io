{
 "cells": [
  {
   "cell_type": "code",
   "execution_count": 1,
   "id": "e4efdf66",
   "metadata": {
    "_cell_guid": "b1076dfc-b9ad-4769-8c92-a6c4dae69d19",
    "_uuid": "8f2839f25d086af736a60e9eeb907d3b93b6e0e5",
    "execution": {
     "iopub.execute_input": "2023-03-14T09:49:06.391443Z",
     "iopub.status.busy": "2023-03-14T09:49:06.390844Z",
     "iopub.status.idle": "2023-03-14T09:49:06.422869Z",
     "shell.execute_reply": "2023-03-14T09:49:06.421443Z"
    },
    "papermill": {
     "duration": 0.048819,
     "end_time": "2023-03-14T09:49:06.426632",
     "exception": false,
     "start_time": "2023-03-14T09:49:06.377813",
     "status": "completed"
    },
    "tags": []
   },
   "outputs": [
    {
     "name": "stdout",
     "output_type": "stream",
     "text": [
      "/kaggle/input/jan-publica-pred/submission.csv\n",
      "/kaggle/input/census-data-for-godaddy/ACSST5Y2017.S0101-Data.csv\n",
      "/kaggle/input/census-data-for-godaddy/ACSST5Y2018.S0101-Table-Notes.txt\n",
      "/kaggle/input/census-data-for-godaddy/ACSST5Y2019.S0101-Table-Notes.txt\n",
      "/kaggle/input/census-data-for-godaddy/ACSST5Y2021.S0101-Table-Notes.txt\n",
      "/kaggle/input/census-data-for-godaddy/ACSST5Y2019.S0101-Column-Metadata.csv\n",
      "/kaggle/input/census-data-for-godaddy/ACSST5Y2020.S0101-Data.csv\n",
      "/kaggle/input/census-data-for-godaddy/ACSST5Y2021.S0101-Column-Metadata.csv\n",
      "/kaggle/input/census-data-for-godaddy/ACSST5Y2018.S0101-Column-Metadata.csv\n",
      "/kaggle/input/census-data-for-godaddy/ACSST5Y2017.S0101-Column-Metadata.csv\n",
      "/kaggle/input/census-data-for-godaddy/ACSST5Y2020.S0101-Column-Metadata.csv\n",
      "/kaggle/input/census-data-for-godaddy/ACSST5Y2021.S0101-Data.csv\n",
      "/kaggle/input/census-data-for-godaddy/ACSST5Y2017.S0101-Table-Notes.txt\n",
      "/kaggle/input/census-data-for-godaddy/ACSST5Y2019.S0101-Data.csv\n",
      "/kaggle/input/census-data-for-godaddy/ACSST5Y2018.S0101-Data.csv\n",
      "/kaggle/input/census-data-for-godaddy/ACSST5Y2020.S0101-Table-Notes.txt\n",
      "/kaggle/input/godday-inference-20-length/gru_xgb_blending_3th_submission.csv\n",
      "/kaggle/input/godday-inference-20-length/gru_xgb_blending_4th_submission.csv\n",
      "/kaggle/input/godday-inference-20-length/gru_xgb_blending_5th_submission.csv\n",
      "/kaggle/input/godaddy-microbusiness-density-forecasting/sample_submission.csv\n",
      "/kaggle/input/godaddy-microbusiness-density-forecasting/census_starter.csv\n",
      "/kaggle/input/godaddy-microbusiness-density-forecasting/revealed_test.csv\n",
      "/kaggle/input/godaddy-microbusiness-density-forecasting/train.csv\n",
      "/kaggle/input/godaddy-microbusiness-density-forecasting/test.csv\n",
      "/kaggle/input/godday-inference-data/gru_xgb_blending_3th_submission.csv\n",
      "/kaggle/input/godday-inference-data/gru_xgb_blending_4th_submission.csv\n",
      "/kaggle/input/godday-inference-data/gru_xgb_blending_5th_submission.csv\n"
     ]
    }
   ],
   "source": [
    "# This Python 3 environment comes with many helpful analytics libraries installed\n",
    "# It is defined by the kaggle/python Docker image: https://github.com/kaggle/docker-python\n",
    "# For example, here's several helpful packages to load\n",
    "\n",
    "import numpy as np # linear algebra\n",
    "import pandas as pd # data processing, CSV file I/O (e.g. pd.read_csv)\n",
    "\n",
    "# Input data files are available in the read-only \"../input/\" directory\n",
    "# For example, running this (by clicking run or pressing Shift+Enter) will list all files under the input directory\n",
    "\n",
    "import os\n",
    "for dirname, _, filenames in os.walk('/kaggle/input'):\n",
    "    for filename in filenames:\n",
    "        print(os.path.join(dirname, filename))\n",
    "\n",
    "# You can write up to 20GB to the current directory (/kaggle/working/) that gets preserved as output when you create a version using \"Save & Run All\" \n",
    "# You can also write temporary files to /kaggle/temp/, but they won't be saved outside of the current session"
   ]
  },
  {
   "cell_type": "code",
   "execution_count": 2,
   "id": "10a68000",
   "metadata": {
    "execution": {
     "iopub.execute_input": "2023-03-14T09:49:06.450507Z",
     "iopub.status.busy": "2023-03-14T09:49:06.449674Z",
     "iopub.status.idle": "2023-03-14T09:49:06.927764Z",
     "shell.execute_reply": "2023-03-14T09:49:06.926372Z"
    },
    "papermill": {
     "duration": 0.492894,
     "end_time": "2023-03-14T09:49:06.930799",
     "exception": false,
     "start_time": "2023-03-14T09:49:06.437905",
     "status": "completed"
    },
    "tags": []
   },
   "outputs": [],
   "source": [
    "train = pd.read_csv('/kaggle/input/godaddy-microbusiness-density-forecasting/train.csv')\n",
    "reaveal_test = pd.read_csv('/kaggle/input/godaddy-microbusiness-density-forecasting/revealed_test.csv')\n",
    "train = pd.concat([train, reaveal_test]).sort_values(by=['cfips','first_day_of_month']).reset_index(drop=True)"
   ]
  },
  {
   "cell_type": "code",
   "execution_count": 3,
   "id": "246ebf23",
   "metadata": {
    "execution": {
     "iopub.execute_input": "2023-03-14T09:49:06.953798Z",
     "iopub.status.busy": "2023-03-14T09:49:06.953404Z",
     "iopub.status.idle": "2023-03-14T09:49:07.061218Z",
     "shell.execute_reply": "2023-03-14T09:49:07.060201Z"
    },
    "papermill": {
     "duration": 0.122973,
     "end_time": "2023-03-14T09:49:07.064298",
     "exception": false,
     "start_time": "2023-03-14T09:49:06.941325",
     "status": "completed"
    },
    "tags": []
   },
   "outputs": [],
   "source": [
    "march_pred = pd.read_csv('/kaggle/input/godday-inference-20-length/gru_xgb_blending_3th_submission.csv')\n",
    "april_pred = pd.read_csv('/kaggle/input/godday-inference-20-length/gru_xgb_blending_4th_submission.csv')\n",
    "may_pred = pd.read_csv('/kaggle/input/godday-inference-20-length/gru_xgb_blending_5th_submission.csv')"
   ]
  },
  {
   "cell_type": "code",
   "execution_count": 4,
   "id": "339171c1",
   "metadata": {
    "execution": {
     "iopub.execute_input": "2023-03-14T09:49:07.088854Z",
     "iopub.status.busy": "2023-03-14T09:49:07.088421Z",
     "iopub.status.idle": "2023-03-14T09:49:07.112109Z",
     "shell.execute_reply": "2023-03-14T09:49:07.110678Z"
    },
    "papermill": {
     "duration": 0.040276,
     "end_time": "2023-03-14T09:49:07.114734",
     "exception": false,
     "start_time": "2023-03-14T09:49:07.074458",
     "status": "completed"
    },
    "tags": []
   },
   "outputs": [
    {
     "data": {
      "text/html": [
       "<div>\n",
       "<style scoped>\n",
       "    .dataframe tbody tr th:only-of-type {\n",
       "        vertical-align: middle;\n",
       "    }\n",
       "\n",
       "    .dataframe tbody tr th {\n",
       "        vertical-align: top;\n",
       "    }\n",
       "\n",
       "    .dataframe thead th {\n",
       "        text-align: right;\n",
       "    }\n",
       "</style>\n",
       "<table border=\"1\" class=\"dataframe\">\n",
       "  <thead>\n",
       "    <tr style=\"text-align: right;\">\n",
       "      <th></th>\n",
       "      <th>row_id</th>\n",
       "      <th>microbusiness_density</th>\n",
       "    </tr>\n",
       "  </thead>\n",
       "  <tbody>\n",
       "    <tr>\n",
       "      <th>0</th>\n",
       "      <td>1001_2022-11-01</td>\n",
       "      <td>3.335074</td>\n",
       "    </tr>\n",
       "    <tr>\n",
       "      <th>1</th>\n",
       "      <td>1001_2022-12-01</td>\n",
       "      <td>3.335074</td>\n",
       "    </tr>\n",
       "    <tr>\n",
       "      <th>2</th>\n",
       "      <td>1001_2023-01-01</td>\n",
       "      <td>3.335074</td>\n",
       "    </tr>\n",
       "    <tr>\n",
       "      <th>3</th>\n",
       "      <td>1001_2023-02-01</td>\n",
       "      <td>3.335074</td>\n",
       "    </tr>\n",
       "    <tr>\n",
       "      <th>4</th>\n",
       "      <td>1001_2023-03-01</td>\n",
       "      <td>3.335074</td>\n",
       "    </tr>\n",
       "    <tr>\n",
       "      <th>5</th>\n",
       "      <td>1001_2023-04-01</td>\n",
       "      <td>3.335074</td>\n",
       "    </tr>\n",
       "    <tr>\n",
       "      <th>6</th>\n",
       "      <td>1001_2023-05-01</td>\n",
       "      <td>3.335074</td>\n",
       "    </tr>\n",
       "    <tr>\n",
       "      <th>7</th>\n",
       "      <td>1001_2023-06-01</td>\n",
       "      <td>3.335074</td>\n",
       "    </tr>\n",
       "    <tr>\n",
       "      <th>8</th>\n",
       "      <td>1003_2022-11-01</td>\n",
       "      <td>7.964891</td>\n",
       "    </tr>\n",
       "    <tr>\n",
       "      <th>9</th>\n",
       "      <td>1003_2022-12-01</td>\n",
       "      <td>7.964891</td>\n",
       "    </tr>\n",
       "  </tbody>\n",
       "</table>\n",
       "</div>"
      ],
      "text/plain": [
       "            row_id  microbusiness_density\n",
       "0  1001_2022-11-01               3.335074\n",
       "1  1001_2022-12-01               3.335074\n",
       "2  1001_2023-01-01               3.335074\n",
       "3  1001_2023-02-01               3.335074\n",
       "4  1001_2023-03-01               3.335074\n",
       "5  1001_2023-04-01               3.335074\n",
       "6  1001_2023-05-01               3.335074\n",
       "7  1001_2023-06-01               3.335074\n",
       "8  1003_2022-11-01               7.964891\n",
       "9  1003_2022-12-01               7.964891"
      ]
     },
     "execution_count": 4,
     "metadata": {},
     "output_type": "execute_result"
    }
   ],
   "source": [
    "march_pred.head(10)"
   ]
  },
  {
   "cell_type": "code",
   "execution_count": 5,
   "id": "f672b4a5",
   "metadata": {
    "execution": {
     "iopub.execute_input": "2023-03-14T09:49:07.137651Z",
     "iopub.status.busy": "2023-03-14T09:49:07.137206Z",
     "iopub.status.idle": "2023-03-14T09:49:07.205850Z",
     "shell.execute_reply": "2023-03-14T09:49:07.204732Z"
    },
    "papermill": {
     "duration": 0.083288,
     "end_time": "2023-03-14T09:49:07.208586",
     "exception": false,
     "start_time": "2023-03-14T09:49:07.125298",
     "status": "completed"
    },
    "tags": []
   },
   "outputs": [],
   "source": [
    "march_pred['cfips'] = march_pred['row_id'].apply(lambda x: int(x.split('_')[0]))\n",
    "april_pred['cfips'] = april_pred['row_id'].apply(lambda x: int(x.split('_')[0]))\n",
    "may_pred['cfips'] = may_pred['row_id'].apply(lambda x: int(x.split('_')[0]))"
   ]
  },
  {
   "cell_type": "code",
   "execution_count": 6,
   "id": "bd2da052",
   "metadata": {
    "execution": {
     "iopub.execute_input": "2023-03-14T09:49:07.232523Z",
     "iopub.status.busy": "2023-03-14T09:49:07.232095Z",
     "iopub.status.idle": "2023-03-14T09:49:07.252853Z",
     "shell.execute_reply": "2023-03-14T09:49:07.251636Z"
    },
    "papermill": {
     "duration": 0.036892,
     "end_time": "2023-03-14T09:49:07.256088",
     "exception": false,
     "start_time": "2023-03-14T09:49:07.219196",
     "status": "completed"
    },
    "tags": []
   },
   "outputs": [],
   "source": [
    "dt_3 = march_pred.groupby('cfips')['microbusiness_density'].last().to_dict()\n",
    "dt_4 = april_pred.groupby('cfips')['microbusiness_density'].last().to_dict()\n",
    "dt_5 = may_pred.groupby('cfips')['microbusiness_density'].last().to_dict()"
   ]
  },
  {
   "cell_type": "code",
   "execution_count": 7,
   "id": "c03cca4c",
   "metadata": {
    "execution": {
     "iopub.execute_input": "2023-03-14T09:49:07.279696Z",
     "iopub.status.busy": "2023-03-14T09:49:07.278700Z",
     "iopub.status.idle": "2023-03-14T09:49:07.285507Z",
     "shell.execute_reply": "2023-03-14T09:49:07.284444Z"
    },
    "papermill": {
     "duration": 0.021236,
     "end_time": "2023-03-14T09:49:07.287835",
     "exception": false,
     "start_time": "2023-03-14T09:49:07.266599",
     "status": "completed"
    },
    "tags": []
   },
   "outputs": [
    {
     "data": {
      "text/plain": [
       "(7.96489149658909, 7.969922236882738, 8.023974621711911)"
      ]
     },
     "execution_count": 7,
     "metadata": {},
     "output_type": "execute_result"
    }
   ],
   "source": [
    "dt_3[1003],dt_4[1003],dt_5[1003]"
   ]
  },
  {
   "cell_type": "code",
   "execution_count": 8,
   "id": "e011e874",
   "metadata": {
    "execution": {
     "iopub.execute_input": "2023-03-14T09:49:07.311544Z",
     "iopub.status.busy": "2023-03-14T09:49:07.310984Z",
     "iopub.status.idle": "2023-03-14T09:49:07.318682Z",
     "shell.execute_reply": "2023-03-14T09:49:07.317713Z"
    },
    "papermill": {
     "duration": 0.022106,
     "end_time": "2023-03-14T09:49:07.320922",
     "exception": false,
     "start_time": "2023-03-14T09:49:07.298816",
     "status": "completed"
    },
    "tags": []
   },
   "outputs": [
    {
     "data": {
      "text/plain": [
       "(0.102880658436214, 0.102880658436214, 0.102880658436214)"
      ]
     },
     "execution_count": 8,
     "metadata": {},
     "output_type": "execute_result"
    }
   ],
   "source": [
    "dt_3[28055],dt_4[28055],dt_5[28055]"
   ]
  },
  {
   "cell_type": "code",
   "execution_count": 9,
   "id": "24a043b3",
   "metadata": {
    "execution": {
     "iopub.execute_input": "2023-03-14T09:49:07.344293Z",
     "iopub.status.busy": "2023-03-14T09:49:07.343911Z",
     "iopub.status.idle": "2023-03-14T09:49:07.423417Z",
     "shell.execute_reply": "2023-03-14T09:49:07.422153Z"
    },
    "papermill": {
     "duration": 0.094093,
     "end_time": "2023-03-14T09:49:07.425906",
     "exception": false,
     "start_time": "2023-03-14T09:49:07.331813",
     "status": "completed"
    },
    "tags": []
   },
   "outputs": [
    {
     "data": {
      "text/html": [
       "<div>\n",
       "<style scoped>\n",
       "    .dataframe tbody tr th:only-of-type {\n",
       "        vertical-align: middle;\n",
       "    }\n",
       "\n",
       "    .dataframe tbody tr th {\n",
       "        vertical-align: top;\n",
       "    }\n",
       "\n",
       "    .dataframe thead th {\n",
       "        text-align: right;\n",
       "    }\n",
       "</style>\n",
       "<table border=\"1\" class=\"dataframe\">\n",
       "  <thead>\n",
       "    <tr style=\"text-align: right;\">\n",
       "      <th></th>\n",
       "      <th>row_id</th>\n",
       "      <th>microbusiness_density</th>\n",
       "      <th>cfips</th>\n",
       "      <th>time</th>\n",
       "    </tr>\n",
       "  </thead>\n",
       "  <tbody>\n",
       "    <tr>\n",
       "      <th>0</th>\n",
       "      <td>1001_2023-01-01</td>\n",
       "      <td>3.337234</td>\n",
       "      <td>1001</td>\n",
       "      <td>2023-01-01</td>\n",
       "    </tr>\n",
       "    <tr>\n",
       "      <th>1</th>\n",
       "      <td>1003_2023-01-01</td>\n",
       "      <td>7.962157</td>\n",
       "      <td>1003</td>\n",
       "      <td>2023-01-01</td>\n",
       "    </tr>\n",
       "    <tr>\n",
       "      <th>2</th>\n",
       "      <td>1005_2023-01-01</td>\n",
       "      <td>1.245311</td>\n",
       "      <td>1005</td>\n",
       "      <td>2023-01-01</td>\n",
       "    </tr>\n",
       "    <tr>\n",
       "      <th>3</th>\n",
       "      <td>1007_2023-01-01</td>\n",
       "      <td>1.292135</td>\n",
       "      <td>1007</td>\n",
       "      <td>2023-01-01</td>\n",
       "    </tr>\n",
       "    <tr>\n",
       "      <th>4</th>\n",
       "      <td>1009_2023-01-01</td>\n",
       "      <td>1.827393</td>\n",
       "      <td>1009</td>\n",
       "      <td>2023-01-01</td>\n",
       "    </tr>\n",
       "  </tbody>\n",
       "</table>\n",
       "</div>"
      ],
      "text/plain": [
       "            row_id  microbusiness_density  cfips        time\n",
       "0  1001_2023-01-01               3.337234   1001  2023-01-01\n",
       "1  1003_2023-01-01               7.962157   1003  2023-01-01\n",
       "2  1005_2023-01-01               1.245311   1005  2023-01-01\n",
       "3  1007_2023-01-01               1.292135   1007  2023-01-01\n",
       "4  1009_2023-01-01               1.827393   1009  2023-01-01"
      ]
     },
     "execution_count": 9,
     "metadata": {},
     "output_type": "execute_result"
    }
   ],
   "source": [
    "jan_pred = pd.read_csv('/kaggle/input/jan-publica-pred/submission.csv')\n",
    "jan_pred['cfips'] = jan_pred['row_id'].apply(lambda x: int(x.split('_')[0]))\n",
    "jan_pred['time'] = jan_pred['row_id'].apply(lambda x: x.split('_')[1])\n",
    "jan_pred = jan_pred.loc[jan_pred.time=='2023-01-01'].reset_index(drop=True)\n",
    "jan_pred.head()"
   ]
  },
  {
   "cell_type": "code",
   "execution_count": 10,
   "id": "831e975a",
   "metadata": {
    "execution": {
     "iopub.execute_input": "2023-03-14T09:49:07.449942Z",
     "iopub.status.busy": "2023-03-14T09:49:07.449566Z",
     "iopub.status.idle": "2023-03-14T09:49:07.458617Z",
     "shell.execute_reply": "2023-03-14T09:49:07.457510Z"
    },
    "papermill": {
     "duration": 0.023938,
     "end_time": "2023-03-14T09:49:07.460972",
     "exception": false,
     "start_time": "2023-03-14T09:49:07.437034",
     "status": "completed"
    },
    "tags": []
   },
   "outputs": [],
   "source": [
    "dt_1 = jan_pred[['microbusiness_density','cfips']].set_index('cfips').to_dict()['microbusiness_density']"
   ]
  },
  {
   "cell_type": "code",
   "execution_count": 11,
   "id": "f3e768b9",
   "metadata": {
    "execution": {
     "iopub.execute_input": "2023-03-14T09:49:07.483753Z",
     "iopub.status.busy": "2023-03-14T09:49:07.483310Z",
     "iopub.status.idle": "2023-03-14T09:49:07.490872Z",
     "shell.execute_reply": "2023-03-14T09:49:07.489669Z"
    },
    "papermill": {
     "duration": 0.021775,
     "end_time": "2023-03-14T09:49:07.493298",
     "exception": false,
     "start_time": "2023-03-14T09:49:07.471523",
     "status": "completed"
    },
    "tags": []
   },
   "outputs": [
    {
     "data": {
      "text/plain": [
       "3.3372338989153425"
      ]
     },
     "execution_count": 11,
     "metadata": {},
     "output_type": "execute_result"
    }
   ],
   "source": [
    "dt_1[1001]"
   ]
  },
  {
   "cell_type": "markdown",
   "id": "da140782",
   "metadata": {
    "papermill": {
     "duration": 0.010335,
     "end_time": "2023-03-14T09:49:07.514221",
     "exception": false,
     "start_time": "2023-03-14T09:49:07.503886",
     "status": "completed"
    },
    "tags": []
   },
   "source": [
    "# submission"
   ]
  },
  {
   "cell_type": "code",
   "execution_count": 12,
   "id": "036c63d2",
   "metadata": {
    "execution": {
     "iopub.execute_input": "2023-03-14T09:49:07.537050Z",
     "iopub.status.busy": "2023-03-14T09:49:07.536625Z",
     "iopub.status.idle": "2023-03-14T09:49:07.603122Z",
     "shell.execute_reply": "2023-03-14T09:49:07.601721Z"
    },
    "papermill": {
     "duration": 0.081319,
     "end_time": "2023-03-14T09:49:07.606053",
     "exception": false,
     "start_time": "2023-03-14T09:49:07.524734",
     "status": "completed"
    },
    "tags": []
   },
   "outputs": [],
   "source": [
    "submission = pd.read_csv('/kaggle/input/godaddy-microbusiness-density-forecasting/sample_submission.csv')\n",
    "submission['cfips'] = submission['row_id'].apply(lambda x: int(x.split('_')[0]))\n",
    "submission['time'] = submission['row_id'].apply(lambda x: x.split('_')[1])"
   ]
  },
  {
   "cell_type": "code",
   "execution_count": 13,
   "id": "eb05f718",
   "metadata": {
    "execution": {
     "iopub.execute_input": "2023-03-14T09:49:07.629267Z",
     "iopub.status.busy": "2023-03-14T09:49:07.628865Z",
     "iopub.status.idle": "2023-03-14T09:49:07.651962Z",
     "shell.execute_reply": "2023-03-14T09:49:07.650541Z"
    },
    "papermill": {
     "duration": 0.038116,
     "end_time": "2023-03-14T09:49:07.654888",
     "exception": false,
     "start_time": "2023-03-14T09:49:07.616772",
     "status": "completed"
    },
    "tags": []
   },
   "outputs": [
    {
     "data": {
      "text/plain": [
       "(6270    3.337234\n",
       " 6271    7.962157\n",
       " 6272    1.245311\n",
       " 6273    1.292135\n",
       " 6274    1.827393\n",
       " Name: microbusiness_density, dtype: float64,\n",
       " [3.3372338989153425,\n",
       "  7.962157154487522,\n",
       "  1.245311327831958,\n",
       "  1.292134831460674,\n",
       "  1.827393199265503])"
      ]
     },
     "execution_count": 13,
     "metadata": {},
     "output_type": "execute_result"
    }
   ],
   "source": [
    "submission.loc[submission.time=='2023-01-01','microbusiness_density']=submission.loc[submission.time=='2023-01-01','cfips'].map(dt_1)\n",
    "submission.loc[submission.time=='2023-01-01','microbusiness_density'][:5],list(dt_1.values())[:5]"
   ]
  },
  {
   "cell_type": "code",
   "execution_count": 14,
   "id": "2aa4a72f",
   "metadata": {
    "execution": {
     "iopub.execute_input": "2023-03-14T09:49:07.678734Z",
     "iopub.status.busy": "2023-03-14T09:49:07.678303Z",
     "iopub.status.idle": "2023-03-14T09:49:07.700167Z",
     "shell.execute_reply": "2023-03-14T09:49:07.698819Z"
    },
    "papermill": {
     "duration": 0.036837,
     "end_time": "2023-03-14T09:49:07.702714",
     "exception": false,
     "start_time": "2023-03-14T09:49:07.665877",
     "status": "completed"
    },
    "tags": []
   },
   "outputs": [
    {
     "data": {
      "text/plain": [
       "(9405    3.337234\n",
       " 9406    7.962157\n",
       " 9407    1.245311\n",
       " 9408    1.292135\n",
       " 9409    1.827393\n",
       " Name: microbusiness_density, dtype: float64,\n",
       " [3.3372338989153425,\n",
       "  7.962157154487522,\n",
       "  1.245311327831958,\n",
       "  1.292134831460674,\n",
       "  1.827393199265503])"
      ]
     },
     "execution_count": 14,
     "metadata": {},
     "output_type": "execute_result"
    }
   ],
   "source": [
    "submission.loc[submission.time=='2023-02-01','microbusiness_density']=submission.loc[submission.time=='2023-02-01','cfips'].map(dt_1)\n",
    "submission.loc[submission.time=='2023-02-01','microbusiness_density'][:5],list(dt_1.values())[:5]"
   ]
  },
  {
   "cell_type": "code",
   "execution_count": 15,
   "id": "b17e20d0",
   "metadata": {
    "execution": {
     "iopub.execute_input": "2023-03-14T09:49:07.726679Z",
     "iopub.status.busy": "2023-03-14T09:49:07.726263Z",
     "iopub.status.idle": "2023-03-14T09:49:07.747741Z",
     "shell.execute_reply": "2023-03-14T09:49:07.746286Z"
    },
    "papermill": {
     "duration": 0.036603,
     "end_time": "2023-03-14T09:49:07.750367",
     "exception": false,
     "start_time": "2023-03-14T09:49:07.713764",
     "status": "completed"
    },
    "tags": []
   },
   "outputs": [
    {
     "data": {
      "text/plain": [
       "(12540    3.335074\n",
       " 12541    7.964891\n",
       " 12542    1.239510\n",
       " 12543    1.290449\n",
       " 12544    1.821022\n",
       " Name: microbusiness_density, dtype: float64,\n",
       " [3.3350735856699223,\n",
       "  7.96489149658909,\n",
       "  1.2395098774693674,\n",
       "  1.2904494382022471,\n",
       "  1.821021658812858])"
      ]
     },
     "execution_count": 15,
     "metadata": {},
     "output_type": "execute_result"
    }
   ],
   "source": [
    "submission.loc[submission.time=='2023-03-01','microbusiness_density']=submission.loc[submission.time=='2023-03-01','cfips'].map(dt_3)\n",
    "submission.loc[submission.time=='2023-03-01','microbusiness_density'][:5],list(dt_3.values())[:5]"
   ]
  },
  {
   "cell_type": "code",
   "execution_count": 16,
   "id": "c75b8da7",
   "metadata": {
    "execution": {
     "iopub.execute_input": "2023-03-14T09:49:07.774170Z",
     "iopub.status.busy": "2023-03-14T09:49:07.773787Z",
     "iopub.status.idle": "2023-03-14T09:49:07.795431Z",
     "shell.execute_reply": "2023-03-14T09:49:07.794238Z"
    },
    "papermill": {
     "duration": 0.036683,
     "end_time": "2023-03-14T09:49:07.797984",
     "exception": false,
     "start_time": "2023-03-14T09:49:07.761301",
     "status": "completed"
    },
    "tags": []
   },
   "outputs": [
    {
     "data": {
      "text/plain": [
       "(15675    3.344953\n",
       " 15676    7.969922\n",
       " 15677    1.238510\n",
       " 15678    1.288090\n",
       " 15679    1.827637\n",
       " Name: microbusiness_density, dtype: float64,\n",
       " [3.3449525181151265,\n",
       "  7.969922236882738,\n",
       "  1.2385096274068517,\n",
       "  1.2880898876404494,\n",
       "  1.827636556713347])"
      ]
     },
     "execution_count": 16,
     "metadata": {},
     "output_type": "execute_result"
    }
   ],
   "source": [
    "submission.loc[submission.time=='2023-04-01','microbusiness_density']=submission.loc[submission.time=='2023-04-01','cfips'].map(dt_4)\n",
    "submission.loc[submission.time=='2023-04-01','microbusiness_density'][:5],list(dt_4.values())[:5]"
   ]
  },
  {
   "cell_type": "code",
   "execution_count": 17,
   "id": "4989be61",
   "metadata": {
    "execution": {
     "iopub.execute_input": "2023-03-14T09:49:07.822239Z",
     "iopub.status.busy": "2023-03-14T09:49:07.821848Z",
     "iopub.status.idle": "2023-03-14T09:49:07.843236Z",
     "shell.execute_reply": "2023-03-14T09:49:07.842033Z"
    },
    "papermill": {
     "duration": 0.036562,
     "end_time": "2023-03-14T09:49:07.845735",
     "exception": false,
     "start_time": "2023-03-14T09:49:07.809173",
     "status": "completed"
    },
    "tags": []
   },
   "outputs": [
    {
     "data": {
      "text/plain": [
       "(18810    3.361267\n",
       " 18811    8.023975\n",
       " 18812    1.243811\n",
       " 18813    1.295787\n",
       " 18814    1.837083\n",
       " Name: microbusiness_density, dtype: float64,\n",
       " [3.3612673837706466,\n",
       "  8.023974621711911,\n",
       "  1.2438109527381846,\n",
       "  1.2957865168539326,\n",
       "  1.837083250370567])"
      ]
     },
     "execution_count": 17,
     "metadata": {},
     "output_type": "execute_result"
    }
   ],
   "source": [
    "submission.loc[submission.time=='2023-05-01','microbusiness_density']=submission.loc[submission.time=='2023-05-01','cfips'].map(dt_5)\n",
    "submission.loc[submission.time=='2023-05-01','microbusiness_density'][:5],list(dt_5.values())[:5]"
   ]
  },
  {
   "cell_type": "code",
   "execution_count": 18,
   "id": "ebbd0c78",
   "metadata": {
    "execution": {
     "iopub.execute_input": "2023-03-14T09:49:07.870716Z",
     "iopub.status.busy": "2023-03-14T09:49:07.869792Z",
     "iopub.status.idle": "2023-03-14T09:49:07.891118Z",
     "shell.execute_reply": "2023-03-14T09:49:07.889656Z"
    },
    "papermill": {
     "duration": 0.036911,
     "end_time": "2023-03-14T09:49:07.893761",
     "exception": false,
     "start_time": "2023-03-14T09:49:07.856850",
     "status": "completed"
    },
    "tags": []
   },
   "outputs": [
    {
     "data": {
      "text/plain": [
       "(21945    3.361267\n",
       " 21946    8.023975\n",
       " 21947    1.243811\n",
       " 21948    1.295787\n",
       " 21949    1.837083\n",
       " Name: microbusiness_density, dtype: float64,\n",
       " [3.3612673837706466,\n",
       "  8.023974621711911,\n",
       "  1.2438109527381846,\n",
       "  1.2957865168539326,\n",
       "  1.837083250370567])"
      ]
     },
     "execution_count": 18,
     "metadata": {},
     "output_type": "execute_result"
    }
   ],
   "source": [
    "submission.loc[submission.time=='2023-06-01','microbusiness_density']=submission.loc[submission.time=='2023-06-01','cfips'].map(dt_5)\n",
    "submission.loc[submission.time=='2023-06-01','microbusiness_density'][:5],list(dt_5.values())[:5]"
   ]
  },
  {
   "cell_type": "code",
   "execution_count": 19,
   "id": "fc254079",
   "metadata": {
    "execution": {
     "iopub.execute_input": "2023-03-14T09:49:07.918906Z",
     "iopub.status.busy": "2023-03-14T09:49:07.918499Z",
     "iopub.status.idle": "2023-03-14T09:49:08.745650Z",
     "shell.execute_reply": "2023-03-14T09:49:08.744413Z"
    },
    "papermill": {
     "duration": 0.843159,
     "end_time": "2023-03-14T09:49:08.748732",
     "exception": false,
     "start_time": "2023-03-14T09:49:07.905573",
     "status": "completed"
    },
    "tags": []
   },
   "outputs": [],
   "source": [
    "submission['outliers']=submission.groupby('cfips')['microbusiness_density'].transform(lambda x:int(abs(x[3:4].values-x[5:6].values)>0.02*x[3:4].values))"
   ]
  },
  {
   "cell_type": "code",
   "execution_count": 20,
   "id": "89cde9aa",
   "metadata": {
    "execution": {
     "iopub.execute_input": "2023-03-14T09:49:08.774402Z",
     "iopub.status.busy": "2023-03-14T09:49:08.773955Z",
     "iopub.status.idle": "2023-03-14T09:49:08.781881Z",
     "shell.execute_reply": "2023-03-14T09:49:08.780502Z"
    },
    "papermill": {
     "duration": 0.023561,
     "end_time": "2023-03-14T09:49:08.784453",
     "exception": false,
     "start_time": "2023-03-14T09:49:08.760892",
     "status": "completed"
    },
    "tags": []
   },
   "outputs": [
    {
     "data": {
      "text/plain": [
       "150.0"
      ]
     },
     "execution_count": 20,
     "metadata": {},
     "output_type": "execute_result"
    }
   ],
   "source": [
    "submission['outliers'].sum()/8"
   ]
  },
  {
   "cell_type": "code",
   "execution_count": 21,
   "id": "d8e71af4",
   "metadata": {
    "execution": {
     "iopub.execute_input": "2023-03-14T09:49:08.810780Z",
     "iopub.status.busy": "2023-03-14T09:49:08.810398Z",
     "iopub.status.idle": "2023-03-14T09:49:10.510684Z",
     "shell.execute_reply": "2023-03-14T09:49:10.509296Z"
    },
    "papermill": {
     "duration": 1.71721,
     "end_time": "2023-03-14T09:49:10.513550",
     "exception": false,
     "start_time": "2023-03-14T09:49:08.796340",
     "status": "completed"
    },
    "tags": []
   },
   "outputs": [
    {
     "name": "stderr",
     "output_type": "stream",
     "text": [
      "/opt/conda/lib/python3.7/site-packages/IPython/core/interactiveshell.py:3553: DtypeWarning: Columns (102) have mixed types.Specify dtype option on import or set low_memory=False.\n",
      "  exec(code_obj, self.user_global_ns, self.user_ns)\n"
     ]
    },
    {
     "data": {
      "text/html": [
       "<div>\n",
       "<style scoped>\n",
       "    .dataframe tbody tr th:only-of-type {\n",
       "        vertical-align: middle;\n",
       "    }\n",
       "\n",
       "    .dataframe tbody tr th {\n",
       "        vertical-align: top;\n",
       "    }\n",
       "\n",
       "    .dataframe thead th {\n",
       "        text-align: right;\n",
       "    }\n",
       "</style>\n",
       "<table border=\"1\" class=\"dataframe\">\n",
       "  <thead>\n",
       "    <tr style=\"text-align: right;\">\n",
       "      <th></th>\n",
       "      <th>census2021</th>\n",
       "      <th>census2020</th>\n",
       "      <th>census2019</th>\n",
       "      <th>census2018</th>\n",
       "      <th>census2017</th>\n",
       "      <th>cfips</th>\n",
       "    </tr>\n",
       "  </thead>\n",
       "  <tbody>\n",
       "    <tr>\n",
       "      <th>0</th>\n",
       "      <td>44438</td>\n",
       "      <td>42496</td>\n",
       "      <td>42175.0</td>\n",
       "      <td>41831.0</td>\n",
       "      <td>41527.0</td>\n",
       "      <td>1001</td>\n",
       "    </tr>\n",
       "    <tr>\n",
       "      <th>1</th>\n",
       "      <td>178105</td>\n",
       "      <td>171296</td>\n",
       "      <td>166595.0</td>\n",
       "      <td>162430.0</td>\n",
       "      <td>158361.0</td>\n",
       "      <td>1003</td>\n",
       "    </tr>\n",
       "    <tr>\n",
       "      <th>2</th>\n",
       "      <td>19995</td>\n",
       "      <td>19804</td>\n",
       "      <td>20054.0</td>\n",
       "      <td>20346.0</td>\n",
       "      <td>20687.0</td>\n",
       "      <td>1005</td>\n",
       "    </tr>\n",
       "    <tr>\n",
       "      <th>3</th>\n",
       "      <td>17800</td>\n",
       "      <td>17790</td>\n",
       "      <td>17862.0</td>\n",
       "      <td>17868.0</td>\n",
       "      <td>17852.0</td>\n",
       "      <td>1007</td>\n",
       "    </tr>\n",
       "    <tr>\n",
       "      <th>4</th>\n",
       "      <td>45201</td>\n",
       "      <td>44383</td>\n",
       "      <td>44292.0</td>\n",
       "      <td>44177.0</td>\n",
       "      <td>44102.0</td>\n",
       "      <td>1009</td>\n",
       "    </tr>\n",
       "  </tbody>\n",
       "</table>\n",
       "</div>"
      ],
      "text/plain": [
       "   census2021  census2020  census2019  census2018  census2017  cfips\n",
       "0       44438       42496     42175.0     41831.0     41527.0   1001\n",
       "1      178105      171296    166595.0    162430.0    158361.0   1003\n",
       "2       19995       19804     20054.0     20346.0     20687.0   1005\n",
       "3       17800       17790     17862.0     17868.0     17852.0   1007\n",
       "4       45201       44383     44292.0     44177.0     44102.0   1009"
      ]
     },
     "execution_count": 21,
     "metadata": {},
     "output_type": "execute_result"
    }
   ],
   "source": [
    "BASE='/kaggle/input/census-data-for-godaddy/'\n",
    "#21\n",
    "COLS = ['GEO_ID','S0101_C01_026E']\n",
    "df2021 = pd.read_csv(BASE+'ACSST5Y2021.S0101-Data.csv',usecols=COLS)\n",
    "df2021 = df2021.iloc[1:]\n",
    "df2021['S0101_C01_026E'] = df2021['S0101_C01_026E'].astype('int')\n",
    "df2021 = df2021.rename(columns={'S0101_C01_026E':'census2021'})\n",
    "\n",
    "#20\n",
    "df2020 = pd.read_csv(BASE+'ACSST5Y2020.S0101-Data.csv',usecols=COLS)\n",
    "df2020 = df2020.iloc[1:]\n",
    "df2020['S0101_C01_026E'] = df2020['S0101_C01_026E'].astype('int')\n",
    "df2020 = df2020.rename(columns={'S0101_C01_026E':'census2020'})\n",
    "#19\n",
    "df2019 = pd.read_csv(BASE+'ACSST5Y2019.S0101-Data.csv',usecols=COLS)\n",
    "df2019 = df2019.iloc[1:]\n",
    "df2019['S0101_C01_026E'] = df2019['S0101_C01_026E'].astype('int')\n",
    "df2019 = df2019.rename(columns={'S0101_C01_026E':'census2019'})\n",
    "#18\n",
    "df2018 = pd.read_csv(BASE+'ACSST5Y2018.S0101-Data.csv',usecols=COLS)\n",
    "df2018 = df2018.iloc[1:]\n",
    "df2018['S0101_C01_026E'] = df2018['S0101_C01_026E'].astype('int')\n",
    "df2018 = df2018.rename(columns={'S0101_C01_026E':'census2018'})\n",
    "#17\n",
    "df2017 = pd.read_csv(BASE+'ACSST5Y2017.S0101-Data.csv',usecols=COLS)\n",
    "df2017 = df2017.iloc[1:]\n",
    "df2017['S0101_C01_026E'] = df2017['S0101_C01_026E'].astype('int')\n",
    "df2017 = df2017.rename(columns={'S0101_C01_026E':'census2017'})\n",
    "census_years = df2021.merge(df2020,on='GEO_ID',how='left')\n",
    "census_years = census_years.merge(df2019,on='GEO_ID',how='left')\n",
    "census_years = census_years.merge(df2018,on='GEO_ID',how='left')\n",
    "census_years = census_years.merge(df2017,on='GEO_ID',how='left')\n",
    "census_years['cfips'] = census_years.GEO_ID.apply(lambda x:int(x.split('US')[-1]))\n",
    "census_years = census_years.drop('GEO_ID',axis=1)\n",
    "census_years.head()"
   ]
  },
  {
   "cell_type": "code",
   "execution_count": 22,
   "id": "5c580e85",
   "metadata": {
    "execution": {
     "iopub.execute_input": "2023-03-14T09:49:10.540408Z",
     "iopub.status.busy": "2023-03-14T09:49:10.539928Z",
     "iopub.status.idle": "2023-03-14T09:49:10.713223Z",
     "shell.execute_reply": "2023-03-14T09:49:10.711981Z"
    },
    "papermill": {
     "duration": 0.190263,
     "end_time": "2023-03-14T09:49:10.716127",
     "exception": false,
     "start_time": "2023-03-14T09:49:10.525864",
     "status": "completed"
    },
    "tags": []
   },
   "outputs": [],
   "source": [
    "train = train.merge(census_years,on='cfips',how='left')\n",
    "train[\"year\"] = train[\"first_day_of_month\"].apply(lambda x:int(x.split('-')[0]))\n",
    "#smooth the md\n",
    "for year in train.year.unique():\n",
    "    if year==2019:\n",
    "        train.loc[train.year==year,'microbusiness_density'] = train.loc[train.year==year,'microbusiness_density']*train.loc[train.year==year,'census2017']/train.loc[train.year==year,'census2021']\n",
    "    if year==2020:\n",
    "        train.loc[train.year==year,'microbusiness_density'] = train.loc[train.year==year,'microbusiness_density']*train.loc[train.year==year,'census2018']/train.loc[train.year==year,'census2021']\n",
    "    elif year==2021:\n",
    "        train.loc[train.year==year,'microbusiness_density'] = train.loc[train.year==year,'microbusiness_density']*train.loc[train.year==year,'census2019']/train.loc[train.year==year,'census2021']\n",
    "    elif year==2022:\n",
    "        train.loc[train.year==year,'microbusiness_density'] = train.loc[train.year==year,'microbusiness_density']*train.loc[train.year==year,'census2020']/train.loc[train.year==year,'census2021']"
   ]
  },
  {
   "cell_type": "code",
   "execution_count": 23,
   "id": "c242a08d",
   "metadata": {
    "execution": {
     "iopub.execute_input": "2023-03-14T09:49:10.743815Z",
     "iopub.status.busy": "2023-03-14T09:49:10.743418Z",
     "iopub.status.idle": "2023-03-14T09:49:10.749831Z",
     "shell.execute_reply": "2023-03-14T09:49:10.748869Z"
    },
    "papermill": {
     "duration": 0.021843,
     "end_time": "2023-03-14T09:49:10.752047",
     "exception": false,
     "start_time": "2023-03-14T09:49:10.730204",
     "status": "completed"
    },
    "tags": []
   },
   "outputs": [],
   "source": [
    "outlier_cfips=submission.loc[submission.outliers==1,'cfips'].unique()"
   ]
  },
  {
   "cell_type": "code",
   "execution_count": 24,
   "id": "20d99872",
   "metadata": {
    "execution": {
     "iopub.execute_input": "2023-03-14T09:49:10.778240Z",
     "iopub.status.busy": "2023-03-14T09:49:10.776876Z",
     "iopub.status.idle": "2023-03-14T09:49:10.783080Z",
     "shell.execute_reply": "2023-03-14T09:49:10.781819Z"
    },
    "papermill": {
     "duration": 0.022214,
     "end_time": "2023-03-14T09:49:10.785961",
     "exception": false,
     "start_time": "2023-03-14T09:49:10.763747",
     "status": "completed"
    },
    "tags": []
   },
   "outputs": [],
   "source": [
    "import matplotlib.pyplot as plt\n",
    "# for i in outlier_cfips:\n",
    "#     print('cfips',i)\n",
    "#     print(train.loc[train.cfips==i,['first_day_of_month','microbusiness_density']][-4:])\n",
    "#     print(submission.loc[submission.cfips==i,['time','microbusiness_density']][2:-1])\n",
    "#     train.loc[train.cfips==i,['first_day_of_month','microbusiness_density']].plot(y='microbusiness_density')\n",
    "#     plt.show()"
   ]
  },
  {
   "cell_type": "code",
   "execution_count": 25,
   "id": "afa59ada",
   "metadata": {
    "execution": {
     "iopub.execute_input": "2023-03-14T09:49:10.812649Z",
     "iopub.status.busy": "2023-03-14T09:49:10.812251Z",
     "iopub.status.idle": "2023-03-14T09:49:10.820036Z",
     "shell.execute_reply": "2023-03-14T09:49:10.818611Z"
    },
    "papermill": {
     "duration": 0.024278,
     "end_time": "2023-03-14T09:49:10.822502",
     "exception": false,
     "start_time": "2023-03-14T09:49:10.798224",
     "status": "completed"
    },
    "tags": []
   },
   "outputs": [],
   "source": [
    "over_high_0005=[40143,47033,47187,49043,54045]\n",
    "over_high_001=[10001,13307,16021,20063,20083,39063,40017,53065]\n",
    "over_high_002=[13271,35041,47031,47175,]\n",
    "over_high_003=[17087,18043,20153,23027,27035,47103,48011]\n",
    "over_high_004=[39041,56033]\n",
    "over_low_001=[13285,21119,21133,21159,21193,28021,38005,42003,46007,54059]\n",
    "over_low_002=[5141,6005,21053,21109,21201,21203,32017,48207]\n",
    "over_low_003=[21131,21147]\n",
    "over_low_004=[20011,]\n",
    "remain_last=[31165,30069,30079,31077,31113,46069,46137,48125,48311,49009,51081]"
   ]
  },
  {
   "cell_type": "code",
   "execution_count": 26,
   "id": "02550ae9",
   "metadata": {
    "execution": {
     "iopub.execute_input": "2023-03-14T09:49:10.848191Z",
     "iopub.status.busy": "2023-03-14T09:49:10.847813Z",
     "iopub.status.idle": "2023-03-14T09:49:10.853717Z",
     "shell.execute_reply": "2023-03-14T09:49:10.852387Z"
    },
    "papermill": {
     "duration": 0.021595,
     "end_time": "2023-03-14T09:49:10.855932",
     "exception": false,
     "start_time": "2023-03-14T09:49:10.834337",
     "status": "completed"
    },
    "tags": []
   },
   "outputs": [],
   "source": [
    "revised = [(over_high_0005,-0.005),(over_high_001,-0.01),(over_high_002,-0.02),(over_high_003,-0.03),\n",
    "          (over_high_004,-0.04),\n",
    "           (over_low_001,0.01),(over_low_002,0.02),(over_low_003,0.03),(over_low_004,0.04)]"
   ]
  },
  {
   "cell_type": "code",
   "execution_count": 27,
   "id": "a9be1dc2",
   "metadata": {
    "execution": {
     "iopub.execute_input": "2023-03-14T09:49:10.882427Z",
     "iopub.status.busy": "2023-03-14T09:49:10.881287Z",
     "iopub.status.idle": "2023-03-14T09:49:10.917830Z",
     "shell.execute_reply": "2023-03-14T09:49:10.916181Z"
    },
    "papermill": {
     "duration": 0.053364,
     "end_time": "2023-03-14T09:49:10.921117",
     "exception": false,
     "start_time": "2023-03-14T09:49:10.867753",
     "status": "completed"
    },
    "tags": []
   },
   "outputs": [
    {
     "name": "stdout",
     "output_type": "stream",
     "text": [
      "0.995\n",
      "0.99\n",
      "0.98\n",
      "0.97\n",
      "0.96\n",
      "1.01\n",
      "1.02\n",
      "1.03\n",
      "1.04\n"
     ]
    }
   ],
   "source": [
    "for i in revised:\n",
    "    flag = 1+i[1]\n",
    "    print(flag)\n",
    "    revised_idex = (submission.cfips.isin(i[0][:1]))&(submission.time.isin(['2023-03-01','2023-04-01','2023-05-01']))\n",
    "    submission.loc[revised_idex,'microbusiness_density']=flag*submission.loc[revised_idex,'microbusiness_density']"
   ]
  },
  {
   "cell_type": "code",
   "execution_count": 28,
   "id": "cc608b2c",
   "metadata": {
    "execution": {
     "iopub.execute_input": "2023-03-14T09:49:10.946289Z",
     "iopub.status.busy": "2023-03-14T09:49:10.945907Z",
     "iopub.status.idle": "2023-03-14T09:49:10.953588Z",
     "shell.execute_reply": "2023-03-14T09:49:10.952604Z"
    },
    "papermill": {
     "duration": 0.023228,
     "end_time": "2023-03-14T09:49:10.956120",
     "exception": false,
     "start_time": "2023-03-14T09:49:10.932892",
     "status": "completed"
    },
    "tags": []
   },
   "outputs": [],
   "source": [
    "remain_last = [31165,30069,30079,31077,31113,46069,46137,48125,48311,49009,51081]\n",
    "remain_idx = (submission.cfips.isin(remain_last))&(submission.time.isin(['2023-03-01','2023-04-01','2023-05-01']))"
   ]
  },
  {
   "cell_type": "code",
   "execution_count": 29,
   "id": "2c72a5ea",
   "metadata": {
    "execution": {
     "iopub.execute_input": "2023-03-14T09:49:10.981409Z",
     "iopub.status.busy": "2023-03-14T09:49:10.980997Z",
     "iopub.status.idle": "2023-03-14T09:49:11.025411Z",
     "shell.execute_reply": "2023-03-14T09:49:11.024294Z"
    },
    "papermill": {
     "duration": 0.060824,
     "end_time": "2023-03-14T09:49:11.028768",
     "exception": false,
     "start_time": "2023-03-14T09:49:10.967944",
     "status": "completed"
    },
    "tags": []
   },
   "outputs": [],
   "source": [
    "remain_dt=train.loc[(train.cfips.isin(remain_last))&(train.first_day_of_month.isin(['2022-12-01'])),['cfips','microbusiness_density']].set_index('cfips').to_dict()['microbusiness_density']"
   ]
  },
  {
   "cell_type": "code",
   "execution_count": 30,
   "id": "acb739a9",
   "metadata": {
    "execution": {
     "iopub.execute_input": "2023-03-14T09:49:11.054538Z",
     "iopub.status.busy": "2023-03-14T09:49:11.054101Z",
     "iopub.status.idle": "2023-03-14T09:49:11.065975Z",
     "shell.execute_reply": "2023-03-14T09:49:11.064829Z"
    },
    "papermill": {
     "duration": 0.027869,
     "end_time": "2023-03-14T09:49:11.068654",
     "exception": false,
     "start_time": "2023-03-14T09:49:11.040785",
     "status": "completed"
    },
    "tags": []
   },
   "outputs": [],
   "source": [
    "\n",
    "submission.loc[remain_idx,'microbusiness_density']=submission.loc[remain_idx,['cfips','microbusiness_density']]['cfips'].map(remain_dt)"
   ]
  },
  {
   "cell_type": "code",
   "execution_count": 31,
   "id": "06521de7",
   "metadata": {
    "execution": {
     "iopub.execute_input": "2023-03-14T09:49:11.095228Z",
     "iopub.status.busy": "2023-03-14T09:49:11.094820Z",
     "iopub.status.idle": "2023-03-14T09:49:11.104828Z",
     "shell.execute_reply": "2023-03-14T09:49:11.103391Z"
    },
    "papermill": {
     "duration": 0.026438,
     "end_time": "2023-03-14T09:49:11.107573",
     "exception": false,
     "start_time": "2023-03-14T09:49:11.081135",
     "status": "completed"
    },
    "tags": []
   },
   "outputs": [],
   "source": [
    "submission.loc[submission.row_id=='1001_2023-03-01','microbusiness_density']+=0.005"
   ]
  },
  {
   "cell_type": "code",
   "execution_count": 32,
   "id": "5467f950",
   "metadata": {
    "execution": {
     "iopub.execute_input": "2023-03-14T09:49:11.133914Z",
     "iopub.status.busy": "2023-03-14T09:49:11.133545Z",
     "iopub.status.idle": "2023-03-14T09:49:11.149173Z",
     "shell.execute_reply": "2023-03-14T09:49:11.147686Z"
    },
    "papermill": {
     "duration": 0.031995,
     "end_time": "2023-03-14T09:49:11.151730",
     "exception": false,
     "start_time": "2023-03-14T09:49:11.119735",
     "status": "completed"
    },
    "tags": []
   },
   "outputs": [
    {
     "name": "stdout",
     "output_type": "stream",
     "text": [
      "0.3833705357142857 0.3805803571428571 0.3950892857142857\n"
     ]
    },
    {
     "data": {
      "text/html": [
       "<div>\n",
       "<style scoped>\n",
       "    .dataframe tbody tr th:only-of-type {\n",
       "        vertical-align: middle;\n",
       "    }\n",
       "\n",
       "    .dataframe tbody tr th {\n",
       "        vertical-align: top;\n",
       "    }\n",
       "\n",
       "    .dataframe thead th {\n",
       "        text-align: right;\n",
       "    }\n",
       "</style>\n",
       "<table border=\"1\" class=\"dataframe\">\n",
       "  <thead>\n",
       "    <tr style=\"text-align: right;\">\n",
       "      <th></th>\n",
       "      <th>row_id</th>\n",
       "      <th>microbusiness_density</th>\n",
       "      <th>cfips</th>\n",
       "      <th>time</th>\n",
       "      <th>outliers</th>\n",
       "    </tr>\n",
       "  </thead>\n",
       "  <tbody>\n",
       "    <tr>\n",
       "      <th>2423</th>\n",
       "      <td>46137_2022-11-01</td>\n",
       "      <td>3.817671</td>\n",
       "      <td>46137</td>\n",
       "      <td>2022-11-01</td>\n",
       "      <td>1</td>\n",
       "    </tr>\n",
       "    <tr>\n",
       "      <th>5558</th>\n",
       "      <td>46137_2022-12-01</td>\n",
       "      <td>3.817671</td>\n",
       "      <td>46137</td>\n",
       "      <td>2022-12-01</td>\n",
       "      <td>1</td>\n",
       "    </tr>\n",
       "    <tr>\n",
       "      <th>8693</th>\n",
       "      <td>46137_2023-01-01</td>\n",
       "      <td>0.390625</td>\n",
       "      <td>46137</td>\n",
       "      <td>2023-01-01</td>\n",
       "      <td>1</td>\n",
       "    </tr>\n",
       "    <tr>\n",
       "      <th>11828</th>\n",
       "      <td>46137_2023-02-01</td>\n",
       "      <td>0.390625</td>\n",
       "      <td>46137</td>\n",
       "      <td>2023-02-01</td>\n",
       "      <td>1</td>\n",
       "    </tr>\n",
       "    <tr>\n",
       "      <th>14963</th>\n",
       "      <td>46137_2023-03-01</td>\n",
       "      <td>0.390625</td>\n",
       "      <td>46137</td>\n",
       "      <td>2023-03-01</td>\n",
       "      <td>1</td>\n",
       "    </tr>\n",
       "    <tr>\n",
       "      <th>18098</th>\n",
       "      <td>46137_2023-04-01</td>\n",
       "      <td>0.390625</td>\n",
       "      <td>46137</td>\n",
       "      <td>2023-04-01</td>\n",
       "      <td>1</td>\n",
       "    </tr>\n",
       "    <tr>\n",
       "      <th>21233</th>\n",
       "      <td>46137_2023-05-01</td>\n",
       "      <td>0.390625</td>\n",
       "      <td>46137</td>\n",
       "      <td>2023-05-01</td>\n",
       "      <td>1</td>\n",
       "    </tr>\n",
       "    <tr>\n",
       "      <th>24368</th>\n",
       "      <td>46137_2023-06-01</td>\n",
       "      <td>0.395089</td>\n",
       "      <td>46137</td>\n",
       "      <td>2023-06-01</td>\n",
       "      <td>1</td>\n",
       "    </tr>\n",
       "  </tbody>\n",
       "</table>\n",
       "</div>"
      ],
      "text/plain": [
       "                 row_id  microbusiness_density  cfips        time  outliers\n",
       "2423   46137_2022-11-01               3.817671  46137  2022-11-01         1\n",
       "5558   46137_2022-12-01               3.817671  46137  2022-12-01         1\n",
       "8693   46137_2023-01-01               0.390625  46137  2023-01-01         1\n",
       "11828  46137_2023-02-01               0.390625  46137  2023-02-01         1\n",
       "14963  46137_2023-03-01               0.390625  46137  2023-03-01         1\n",
       "18098  46137_2023-04-01               0.390625  46137  2023-04-01         1\n",
       "21233  46137_2023-05-01               0.390625  46137  2023-05-01         1\n",
       "24368  46137_2023-06-01               0.395089  46137  2023-06-01         1"
      ]
     },
     "execution_count": 32,
     "metadata": {},
     "output_type": "execute_result"
    }
   ],
   "source": [
    "cifp=46137\n",
    "print(dt_3[cifp],dt_4[cifp],dt_5[cifp])\n",
    "submission.loc[submission.cfips==cifp][:]"
   ]
  },
  {
   "cell_type": "code",
   "execution_count": 33,
   "id": "e6c202a3",
   "metadata": {
    "execution": {
     "iopub.execute_input": "2023-03-14T09:49:11.178157Z",
     "iopub.status.busy": "2023-03-14T09:49:11.177460Z",
     "iopub.status.idle": "2023-03-14T09:49:11.184538Z",
     "shell.execute_reply": "2023-03-14T09:49:11.183613Z"
    },
    "papermill": {
     "duration": 0.023067,
     "end_time": "2023-03-14T09:49:11.186870",
     "exception": false,
     "start_time": "2023-03-14T09:49:11.163803",
     "status": "completed"
    },
    "tags": []
   },
   "outputs": [],
   "source": [
    "submission.drop(['cfips','time','outliers'],axis=1,inplace=True)"
   ]
  },
  {
   "cell_type": "code",
   "execution_count": 34,
   "id": "04459556",
   "metadata": {
    "execution": {
     "iopub.execute_input": "2023-03-14T09:49:11.213767Z",
     "iopub.status.busy": "2023-03-14T09:49:11.212731Z",
     "iopub.status.idle": "2023-03-14T09:49:11.282706Z",
     "shell.execute_reply": "2023-03-14T09:49:11.281387Z"
    },
    "papermill": {
     "duration": 0.08682,
     "end_time": "2023-03-14T09:49:11.285842",
     "exception": false,
     "start_time": "2023-03-14T09:49:11.199022",
     "status": "completed"
    },
    "tags": []
   },
   "outputs": [],
   "source": [
    "submission.to_csv('submission.csv',index=False)"
   ]
  },
  {
   "cell_type": "code",
   "execution_count": 35,
   "id": "6cb92acd",
   "metadata": {
    "execution": {
     "iopub.execute_input": "2023-03-14T09:49:11.313017Z",
     "iopub.status.busy": "2023-03-14T09:49:11.312601Z",
     "iopub.status.idle": "2023-03-14T09:49:11.320899Z",
     "shell.execute_reply": "2023-03-14T09:49:11.320020Z"
    },
    "papermill": {
     "duration": 0.025072,
     "end_time": "2023-03-14T09:49:11.323203",
     "exception": false,
     "start_time": "2023-03-14T09:49:11.298131",
     "status": "completed"
    },
    "tags": []
   },
   "outputs": [
    {
     "data": {
      "text/plain": [
       "(0, 0, 0)"
      ]
     },
     "execution_count": 35,
     "metadata": {},
     "output_type": "execute_result"
    }
   ],
   "source": [
    "(submission.microbusiness_density>900).sum(),(submission.microbusiness_density<0).sum(),(submission.microbusiness_density.isna()).sum()"
   ]
  },
  {
   "cell_type": "code",
   "execution_count": 36,
   "id": "f71e98ea",
   "metadata": {
    "execution": {
     "iopub.execute_input": "2023-03-14T09:49:11.349453Z",
     "iopub.status.busy": "2023-03-14T09:49:11.348978Z",
     "iopub.status.idle": "2023-03-14T09:49:11.363692Z",
     "shell.execute_reply": "2023-03-14T09:49:11.362439Z"
    },
    "papermill": {
     "duration": 0.03128,
     "end_time": "2023-03-14T09:49:11.366779",
     "exception": false,
     "start_time": "2023-03-14T09:49:11.335499",
     "status": "completed"
    },
    "tags": []
   },
   "outputs": [
    {
     "data": {
      "text/html": [
       "<div>\n",
       "<style scoped>\n",
       "    .dataframe tbody tr th:only-of-type {\n",
       "        vertical-align: middle;\n",
       "    }\n",
       "\n",
       "    .dataframe tbody tr th {\n",
       "        vertical-align: top;\n",
       "    }\n",
       "\n",
       "    .dataframe thead th {\n",
       "        text-align: right;\n",
       "    }\n",
       "</style>\n",
       "<table border=\"1\" class=\"dataframe\">\n",
       "  <thead>\n",
       "    <tr style=\"text-align: right;\">\n",
       "      <th></th>\n",
       "      <th>row_id</th>\n",
       "      <th>microbusiness_density</th>\n",
       "    </tr>\n",
       "  </thead>\n",
       "  <tbody>\n",
       "    <tr>\n",
       "      <th>0</th>\n",
       "      <td>1001_2022-11-01</td>\n",
       "      <td>3.817671</td>\n",
       "    </tr>\n",
       "    <tr>\n",
       "      <th>1</th>\n",
       "      <td>1003_2022-11-01</td>\n",
       "      <td>3.817671</td>\n",
       "    </tr>\n",
       "    <tr>\n",
       "      <th>2</th>\n",
       "      <td>1005_2022-11-01</td>\n",
       "      <td>3.817671</td>\n",
       "    </tr>\n",
       "    <tr>\n",
       "      <th>3</th>\n",
       "      <td>1007_2022-11-01</td>\n",
       "      <td>3.817671</td>\n",
       "    </tr>\n",
       "    <tr>\n",
       "      <th>4</th>\n",
       "      <td>1009_2022-11-01</td>\n",
       "      <td>3.817671</td>\n",
       "    </tr>\n",
       "    <tr>\n",
       "      <th>...</th>\n",
       "      <td>...</td>\n",
       "      <td>...</td>\n",
       "    </tr>\n",
       "    <tr>\n",
       "      <th>25075</th>\n",
       "      <td>56037_2023-06-01</td>\n",
       "      <td>2.937678</td>\n",
       "    </tr>\n",
       "    <tr>\n",
       "      <th>25076</th>\n",
       "      <td>56039_2023-06-01</td>\n",
       "      <td>26.642548</td>\n",
       "    </tr>\n",
       "    <tr>\n",
       "      <th>25077</th>\n",
       "      <td>56041_2023-06-01</td>\n",
       "      <td>4.024315</td>\n",
       "    </tr>\n",
       "    <tr>\n",
       "      <th>25078</th>\n",
       "      <td>56043_2023-06-01</td>\n",
       "      <td>3.116833</td>\n",
       "    </tr>\n",
       "    <tr>\n",
       "      <th>25079</th>\n",
       "      <td>56045_2023-06-01</td>\n",
       "      <td>1.835970</td>\n",
       "    </tr>\n",
       "  </tbody>\n",
       "</table>\n",
       "<p>25080 rows × 2 columns</p>\n",
       "</div>"
      ],
      "text/plain": [
       "                 row_id  microbusiness_density\n",
       "0       1001_2022-11-01               3.817671\n",
       "1       1003_2022-11-01               3.817671\n",
       "2       1005_2022-11-01               3.817671\n",
       "3       1007_2022-11-01               3.817671\n",
       "4       1009_2022-11-01               3.817671\n",
       "...                 ...                    ...\n",
       "25075  56037_2023-06-01               2.937678\n",
       "25076  56039_2023-06-01              26.642548\n",
       "25077  56041_2023-06-01               4.024315\n",
       "25078  56043_2023-06-01               3.116833\n",
       "25079  56045_2023-06-01               1.835970\n",
       "\n",
       "[25080 rows x 2 columns]"
      ]
     },
     "execution_count": 36,
     "metadata": {},
     "output_type": "execute_result"
    }
   ],
   "source": [
    "submission"
   ]
  },
  {
   "cell_type": "code",
   "execution_count": null,
   "id": "59db2f0c",
   "metadata": {
    "papermill": {
     "duration": 0.012324,
     "end_time": "2023-03-14T09:49:11.392010",
     "exception": false,
     "start_time": "2023-03-14T09:49:11.379686",
     "status": "completed"
    },
    "tags": []
   },
   "outputs": [],
   "source": []
  },
  {
   "cell_type": "code",
   "execution_count": null,
   "id": "828284dc",
   "metadata": {
    "papermill": {
     "duration": 0.012093,
     "end_time": "2023-03-14T09:49:11.417860",
     "exception": false,
     "start_time": "2023-03-14T09:49:11.405767",
     "status": "completed"
    },
    "tags": []
   },
   "outputs": [],
   "source": []
  },
  {
   "cell_type": "code",
   "execution_count": null,
   "id": "2b21e27d",
   "metadata": {
    "papermill": {
     "duration": 0.012211,
     "end_time": "2023-03-14T09:49:11.442408",
     "exception": false,
     "start_time": "2023-03-14T09:49:11.430197",
     "status": "completed"
    },
    "tags": []
   },
   "outputs": [],
   "source": []
  },
  {
   "cell_type": "code",
   "execution_count": null,
   "id": "d2cbb3af",
   "metadata": {
    "papermill": {
     "duration": 0.012035,
     "end_time": "2023-03-14T09:49:11.466709",
     "exception": false,
     "start_time": "2023-03-14T09:49:11.454674",
     "status": "completed"
    },
    "tags": []
   },
   "outputs": [],
   "source": []
  },
  {
   "cell_type": "code",
   "execution_count": null,
   "id": "e68e99fe",
   "metadata": {
    "papermill": {
     "duration": 0.011966,
     "end_time": "2023-03-14T09:49:11.490923",
     "exception": false,
     "start_time": "2023-03-14T09:49:11.478957",
     "status": "completed"
    },
    "tags": []
   },
   "outputs": [],
   "source": []
  },
  {
   "cell_type": "code",
   "execution_count": null,
   "id": "cae640fd",
   "metadata": {
    "papermill": {
     "duration": 0.011984,
     "end_time": "2023-03-14T09:49:11.515092",
     "exception": false,
     "start_time": "2023-03-14T09:49:11.503108",
     "status": "completed"
    },
    "tags": []
   },
   "outputs": [],
   "source": []
  },
  {
   "cell_type": "code",
   "execution_count": null,
   "id": "9392de4a",
   "metadata": {
    "papermill": {
     "duration": 0.011918,
     "end_time": "2023-03-14T09:49:11.539204",
     "exception": false,
     "start_time": "2023-03-14T09:49:11.527286",
     "status": "completed"
    },
    "tags": []
   },
   "outputs": [],
   "source": []
  },
  {
   "cell_type": "code",
   "execution_count": 37,
   "id": "7b278205",
   "metadata": {
    "execution": {
     "iopub.execute_input": "2023-03-14T09:49:11.566248Z",
     "iopub.status.busy": "2023-03-14T09:49:11.565207Z",
     "iopub.status.idle": "2023-03-14T09:49:11.572329Z",
     "shell.execute_reply": "2023-03-14T09:49:11.571283Z"
    },
    "papermill": {
     "duration": 0.023055,
     "end_time": "2023-03-14T09:49:11.574604",
     "exception": false,
     "start_time": "2023-03-14T09:49:11.551549",
     "status": "completed"
    },
    "tags": []
   },
   "outputs": [
    {
     "data": {
      "text/plain": [
       "6005"
      ]
     },
     "execution_count": 37,
     "metadata": {},
     "output_type": "execute_result"
    }
   ],
   "source": [
    "6005"
   ]
  }
 ],
 "metadata": {
  "kernelspec": {
   "display_name": "Python 3",
   "language": "python",
   "name": "python3"
  },
  "language_info": {
   "codemirror_mode": {
    "name": "ipython",
    "version": 3
   },
   "file_extension": ".py",
   "mimetype": "text/x-python",
   "name": "python",
   "nbconvert_exporter": "python",
   "pygments_lexer": "ipython3",
   "version": "3.7.12"
  },
  "papermill": {
   "default_parameters": {},
   "duration": 16.174953,
   "end_time": "2023-03-14T09:49:12.310238",
   "environment_variables": {},
   "exception": null,
   "input_path": "__notebook__.ipynb",
   "output_path": "__notebook__.ipynb",
   "parameters": {},
   "start_time": "2023-03-14T09:48:56.135285",
   "version": "2.4.0"
  }
 },
 "nbformat": 4,
 "nbformat_minor": 5
}
